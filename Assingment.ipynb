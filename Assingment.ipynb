{
 "cells": [
  {
   "cell_type": "markdown",
   "metadata": {
    "id": "m0ooW9qNvRU5"
   },
   "source": []
  },
  {
   "cell_type": "code",
   "execution_count": 2,
   "metadata": {
    "id": "FLn0iYyxvRU7"
   },
   "outputs": [],
   "source": [
    "import numpy as np\n",
    "import pandas as pd\n",
    "import ast\n",
    "import seaborn as sns"
   ]
  },
  {
   "cell_type": "code",
   "execution_count": 3,
   "metadata": {
    "id": "9-G3LYtdvRU8"
   },
   "outputs": [],
   "source": [
    "travel = pd.read_csv(\"image_dataset.csv\") "
   ]
  },
  {
   "cell_type": "code",
   "execution_count": 4,
   "metadata": {
    "id": "J9aSZu7lvRU9"
   },
   "outputs": [
    {
     "data": {
      "text/html": [
       "<div>\n",
       "<style scoped>\n",
       "    .dataframe tbody tr th:only-of-type {\n",
       "        vertical-align: middle;\n",
       "    }\n",
       "\n",
       "    .dataframe tbody tr th {\n",
       "        vertical-align: top;\n",
       "    }\n",
       "\n",
       "    .dataframe thead th {\n",
       "        text-align: right;\n",
       "    }\n",
       "</style>\n",
       "<table border=\"1\" class=\"dataframe\">\n",
       "  <thead>\n",
       "    <tr style=\"text-align: right;\">\n",
       "      <th></th>\n",
       "      <th>image_id</th>\n",
       "      <th>image_title</th>\n",
       "      <th>hashtag</th>\n",
       "      <th>location</th>\n",
       "      <th>image_url</th>\n",
       "    </tr>\n",
       "  </thead>\n",
       "  <tbody>\n",
       "    <tr>\n",
       "      <th>0</th>\n",
       "      <td>1</td>\n",
       "      <td>Pulau Aur</td>\n",
       "      <td>beach vacations</td>\n",
       "      <td>Johor</td>\n",
       "      <td>images/aur.jpg</td>\n",
       "    </tr>\n",
       "    <tr>\n",
       "      <th>1</th>\n",
       "      <td>2</td>\n",
       "      <td>Kung Pao</td>\n",
       "      <td>foodie adventure</td>\n",
       "      <td>Johor</td>\n",
       "      <td>images/johorfood.jpg</td>\n",
       "    </tr>\n",
       "    <tr>\n",
       "      <th>2</th>\n",
       "      <td>3</td>\n",
       "      <td>Johor Bahru City</td>\n",
       "      <td>city exploration</td>\n",
       "      <td>Johor</td>\n",
       "      <td>images/johorcity.jpg</td>\n",
       "    </tr>\n",
       "    <tr>\n",
       "      <th>3</th>\n",
       "      <td>4</td>\n",
       "      <td>Pulau Sibu</td>\n",
       "      <td>beach vacations</td>\n",
       "      <td>Johor</td>\n",
       "      <td>images/sibu.jpg</td>\n",
       "    </tr>\n",
       "    <tr>\n",
       "      <th>4</th>\n",
       "      <td>5</td>\n",
       "      <td>Wat Koh Wanararm</td>\n",
       "      <td>cultural tours</td>\n",
       "      <td>Kedah</td>\n",
       "      <td>images/watkohwanararm.jpg</td>\n",
       "    </tr>\n",
       "  </tbody>\n",
       "</table>\n",
       "</div>"
      ],
      "text/plain": [
       "   image_id       image_title           hashtag location  \\\n",
       "0         1         Pulau Aur   beach vacations    Johor   \n",
       "1         2          Kung Pao  foodie adventure    Johor   \n",
       "2         3  Johor Bahru City  city exploration    Johor   \n",
       "3         4        Pulau Sibu   beach vacations    Johor   \n",
       "4         5  Wat Koh Wanararm    cultural tours    Kedah   \n",
       "\n",
       "                   image_url  \n",
       "0             images/aur.jpg  \n",
       "1       images/johorfood.jpg  \n",
       "2       images/johorcity.jpg  \n",
       "3            images/sibu.jpg  \n",
       "4  images/watkohwanararm.jpg  "
      ]
     },
     "execution_count": 4,
     "metadata": {},
     "output_type": "execute_result"
    }
   ],
   "source": [
    "travel.head()"
   ]
  },
  {
   "cell_type": "code",
   "execution_count": 5,
   "metadata": {
    "id": "D6gB11eZvRU9"
   },
   "outputs": [
    {
     "data": {
      "text/plain": [
       "(27, 5)"
      ]
     },
     "execution_count": 5,
     "metadata": {},
     "output_type": "execute_result"
    }
   ],
   "source": [
    "travel.columns\n",
    "travel.shape"
   ]
  },
  {
   "cell_type": "code",
   "execution_count": 6,
   "metadata": {
    "id": "xFZd1CHOvRU9"
   },
   "outputs": [
    {
     "data": {
      "text/plain": [
       "image_id       0\n",
       "image_title    0\n",
       "hashtag        0\n",
       "location       0\n",
       "image_url      0\n",
       "dtype: int64"
      ]
     },
     "execution_count": 6,
     "metadata": {},
     "output_type": "execute_result"
    }
   ],
   "source": [
    "travel.isnull().sum()"
   ]
  },
  {
   "cell_type": "code",
   "execution_count": 7,
   "metadata": {},
   "outputs": [
    {
     "data": {
      "text/plain": [
       "0           Pulau Aur\n",
       "1            Kung Pao\n",
       "2    Johor Bahru City\n",
       "3          Pulau Sibu\n",
       "4    Wat Koh Wanararm\n",
       "Name: image_title, dtype: object"
      ]
     },
     "execution_count": 7,
     "metadata": {},
     "output_type": "execute_result"
    }
   ],
   "source": [
    "travel['image_title'].head()"
   ]
  },
  {
   "cell_type": "code",
   "execution_count": 8,
   "metadata": {
    "id": "Dr7xRtSkvRU9"
   },
   "outputs": [
    {
     "name": "stdout",
     "output_type": "stream",
     "text": [
      "<class 'pandas.core.frame.DataFrame'>\n",
      "RangeIndex: 27 entries, 0 to 26\n",
      "Data columns (total 5 columns):\n",
      " #   Column       Non-Null Count  Dtype \n",
      "---  ------       --------------  ----- \n",
      " 0   image_id     27 non-null     int64 \n",
      " 1   image_title  27 non-null     object\n",
      " 2   hashtag      27 non-null     object\n",
      " 3   location     27 non-null     object\n",
      " 4   image_url    27 non-null     object\n",
      "dtypes: int64(1), object(4)\n",
      "memory usage: 1.2+ KB\n"
     ]
    }
   ],
   "source": [
    "travel.info()"
   ]
  },
  {
   "cell_type": "code",
   "execution_count": 9,
   "metadata": {
    "id": "hkIugu7hvRU-"
   },
   "outputs": [
    {
     "data": {
      "text/plain": [
       "0"
      ]
     },
     "execution_count": 9,
     "metadata": {},
     "output_type": "execute_result"
    }
   ],
   "source": [
    "travel.duplicated().sum()"
   ]
  },
  {
   "cell_type": "code",
   "execution_count": 10,
   "metadata": {},
   "outputs": [
    {
     "data": {
      "text/plain": [
       "(27, 9)"
      ]
     },
     "execution_count": 10,
     "metadata": {},
     "output_type": "execute_result"
    }
   ],
   "source": [
    "#Import TfIdfVectorizer from scikit-learn\n",
    "from sklearn.feature_extraction.text import TfidfVectorizer\n",
    "\n",
    "#Define a TF-IDF Vectorizer Object. Remove all english stop words such as 'the', 'a'\n",
    "tfidf = TfidfVectorizer(stop_words='english')\n",
    "\n",
    "#Replace NaN with an empty string\n",
    "travel['hashtag'] = travel['hashtag'].fillna('')\n",
    "\n",
    "#Construct the required TF-IDF matrix by fitting and transforming the data\n",
    "tfidf_matrix = tfidf.fit_transform(travel['hashtag'])\n",
    "\n",
    "#Output the shape of tfidf_matrix\n",
    "tfidf_matrix.shape\n"
   ]
  },
  {
   "cell_type": "code",
   "execution_count": 11,
   "metadata": {},
   "outputs": [],
   "source": [
    "# Import linear_kernel\n",
    "from sklearn.metrics.pairwise import linear_kernel\n",
    "\n",
    "# Compute the cosine similarity matrix\n",
    "cosine_sim = linear_kernel(tfidf_matrix, tfidf_matrix)"
   ]
  },
  {
   "cell_type": "code",
   "execution_count": 12,
   "metadata": {},
   "outputs": [
    {
     "data": {
      "text/plain": [
       "(27, 27)"
      ]
     },
     "execution_count": 12,
     "metadata": {},
     "output_type": "execute_result"
    }
   ],
   "source": [
    "cosine_sim.shape"
   ]
  },
  {
   "cell_type": "code",
   "execution_count": 13,
   "metadata": {},
   "outputs": [
    {
     "name": "stdout",
     "output_type": "stream",
     "text": [
      "[1. 0. 0. 1. 0. 1.]\n",
      "[0. 1. 0. 0. 0. 0.]\n",
      "[0. 0. 1. 0. 0. 0.]\n",
      "[1. 0. 0. 1. 0. 1.]\n",
      "[0. 0. 0. 0. 1. 0.]\n",
      "[1. 0. 0. 1. 0. 1.]\n"
     ]
    }
   ],
   "source": [
    "for i in range(6):\n",
    "    print(cosine_sim[i][:6])"
   ]
  },
  {
   "cell_type": "code",
   "execution_count": 14,
   "metadata": {},
   "outputs": [
    {
     "name": "stdout",
     "output_type": "stream",
     "text": [
      "Index: 0, Clean hashtag: beach vacations\n",
      "Index: 1, Clean hashtag: foodie adventure\n",
      "Index: 2, Clean hashtag: city exploration\n",
      "Index: 3, Clean hashtag: beach vacations\n",
      "Index: 4, Clean hashtag: cultural tours\n",
      "Index: 5, Clean hashtag: beach vacations\n",
      "Index: 6, Clean hashtag: beach vacations\n",
      "Index: 7, Clean hashtag: foodie adventure\n",
      "Index: 8, Clean hashtag: cultural tours\n",
      "Index: 9, Clean hashtag: foodie adventure\n",
      "Index: 10, Clean hashtag: hiking\n",
      "Index: 11, Clean hashtag: foodie adventure\n",
      "Index: 12, Clean hashtag: city exploration\n",
      "Index: 13, Clean hashtag: city exploration\n",
      "Index: 14, Clean hashtag: foodie adventure\n",
      "Index: 15, Clean hashtag: cultural tours\n",
      "Index: 16, Clean hashtag: hiking\n",
      "Index: 17, Clean hashtag: cultural tours\n",
      "Index: 18, Clean hashtag: city exploration\n",
      "Index: 19, Clean hashtag: foodie adventure\n",
      "Index: 20, Clean hashtag: beach vacations\n",
      "Index: 21, Clean hashtag: hiking\n",
      "Index: 22, Clean hashtag: hiking\n",
      "Index: 23, Clean hashtag: hiking\n",
      "Index: 24, Clean hashtag: cultural tours\n",
      "Index: 25, Clean hashtag: cultural tours\n",
      "Index: 26, Clean hashtag: beach vacations\n"
     ]
    }
   ],
   "source": [
    "# Remove commas from hashtags\n",
    "travel['hashtag'] = travel['hashtag'].str.replace(',', '')\n",
    "\n",
    "# Example: Access hashtags without commas for all entries (using a loop)\n",
    "for index, row in travel.iterrows():\n",
    "    clean_hashtag = row['hashtag']\n",
    "    print(f\"Index: {index}, Clean hashtag: {clean_hashtag}\")\n",
    "\n",
    "# Alternative: Access all hashtags as a list (optional)\n",
    "all_clean_hashtags = travel['hashtag'].tolist()"
   ]
  },
  {
   "cell_type": "code",
   "execution_count": 15,
   "metadata": {
    "id": "qfSLL5tKvRU-",
    "scrolled": true
   },
   "outputs": [],
   "source": [
    "def get_recommendations(location, hashtags_str):\n",
    "\n",
    "  # Handle empty hashtags string\n",
    "  if not hashtags_str:\n",
    "      return []\n",
    "\n",
    "  # Split the provided hashtags string into a list\n",
    "  hashtags = hashtags_str.strip().split()\n",
    "\n",
    "  # Filter the dataframe based on location (if provided)\n",
    "  if location:\n",
    "    filtered_df = travel[travel['location'] == location].copy()  # Make a copy of the filtered DataFrame\n",
    "    if not filtered_df.empty:\n",
    "      # Calculate hashtag similarity scores for filtered entries\n",
    "      filtered_df['hashtag_sim_score'] = filtered_df['hashtag'].apply(\n",
    "          lambda x: len(set(x.split()) & set(hashtags))\n",
    "      )\n",
    "      # Sort entries based on hashtag similarity score\n",
    "      sorted_df = filtered_df.sort_values(by='hashtag_sim_score', ascending=False)\n",
    "      # Get top 10 recommendations\n",
    "      recommendations = sorted_df[['location', 'hashtag', 'image_url']].head(10).to_dict('records')\n",
    "      return recommendations\n",
    "  return []  # Return empty list if no recommendations found"
   ]
  },
  {
   "cell_type": "code",
   "execution_count": 16,
   "metadata": {
    "id": "5OyM50SkvRU-"
   },
   "outputs": [
    {
     "name": "stdout",
     "output_type": "stream",
     "text": [
      "[{'location': 'Kedah', 'hashtag': 'beach vacations', 'image_url': 'images/langkawi.jpg'}, {'location': 'Kedah', 'hashtag': 'cultural tours', 'image_url': 'images/watkohwanararm.jpg'}]\n"
     ]
    }
   ],
   "source": [
    "recommendations = get_recommendations('Kedah', 'beach')\n",
    "print(recommendations)"
   ]
  },
  {
   "cell_type": "code",
   "execution_count": 17,
   "metadata": {},
   "outputs": [],
   "source": [
    "import pickle"
   ]
  },
  {
   "cell_type": "code",
   "execution_count": null,
   "metadata": {},
   "outputs": [],
   "source": [
    "pickle.dump(travel,open('travel.lis.pkl','wb'))"
   ]
  }
 ],
 "metadata": {
  "colab": {
   "provenance": []
  },
  "kernelspec": {
   "display_name": "Python 3 (ipykernel)",
   "language": "python",
   "name": "python3"
  },
  "language_info": {
   "codemirror_mode": {
    "name": "ipython",
    "version": 3
   },
   "file_extension": ".py",
   "mimetype": "text/x-python",
   "name": "python",
   "nbconvert_exporter": "python",
   "pygments_lexer": "ipython3",
   "version": "3.11.5"
  }
 },
 "nbformat": 4,
 "nbformat_minor": 1
}
